{
 "cells": [
  {
   "cell_type": "code",
   "execution_count": 1,
   "id": "51849ffa",
   "metadata": {},
   "outputs": [],
   "source": [
    "# Developing a machine learning model for image classfication using CNN.\n",
    "\n",
    "## importing libraries\n",
    "from keras.models import Sequential\n",
    "from keras.layers import Convolution2D\n",
    "from keras.layers import MaxPooling2D\n",
    "from keras.layers import Flatten\n",
    "from keras.layers import Dense\n",
    "from keras.layers import Dropout\n",
    "import numpy as np\n",
    "from keras.utils.vis_utils import plot_model\n",
    "import matplotlib.pyplot as plt"
   ]
  },
  {
   "cell_type": "code",
   "execution_count": 2,
   "id": "4bb64ea6",
   "metadata": {},
   "outputs": [],
   "source": [
    "## Initializing the CNN Model\n",
    "np.random.seed(1337)\n",
    "classifier = Sequential()\n",
    "\n",
    "classifier.add(Convolution2D(32, 3, 3, input_shape = (128, 128, 3), activation = 'relu'))\n",
    "classifier.add(MaxPooling2D(pool_size = (2, 2)))\n",
    "classifier.add(Convolution2D(16, 3, 3, activation = 'relu'))\n",
    "classifier.add(MaxPooling2D(pool_size = (2, 2)))\n",
    "classifier.add(Convolution2D(8, 3, 3, activation = 'relu'))\n",
    "classifier.add(MaxPooling2D(pool_size = (2, 2), padding='same'))\n",
    "\n",
    "\n",
    "\n",
    "classifier.add(Flatten())"
   ]
  },
  {
   "cell_type": "code",
   "execution_count": 3,
   "id": "5facece2",
   "metadata": {},
   "outputs": [
    {
     "name": "stdout",
     "output_type": "stream",
     "text": [
      "Model: \"sequential\"\n",
      "_________________________________________________________________\n",
      " Layer (type)                Output Shape              Param #   \n",
      "=================================================================\n",
      " conv2d (Conv2D)             (None, 42, 42, 32)        896       \n",
      "                                                                 \n",
      " max_pooling2d (MaxPooling2D  (None, 21, 21, 32)       0         \n",
      " )                                                               \n",
      "                                                                 \n",
      " conv2d_1 (Conv2D)           (None, 7, 7, 16)          4624      \n",
      "                                                                 \n",
      " max_pooling2d_1 (MaxPooling  (None, 3, 3, 16)         0         \n",
      " 2D)                                                             \n",
      "                                                                 \n",
      " conv2d_2 (Conv2D)           (None, 1, 1, 8)           1160      \n",
      "                                                                 \n",
      " max_pooling2d_2 (MaxPooling  (None, 1, 1, 8)          0         \n",
      " 2D)                                                             \n",
      "                                                                 \n",
      " flatten (Flatten)           (None, 8)                 0         \n",
      "                                                                 \n",
      " dense (Dense)               (None, 128)               1152      \n",
      "                                                                 \n",
      " dropout (Dropout)           (None, 128)               0         \n",
      "                                                                 \n",
      " dense_1 (Dense)             (None, 3)                 387       \n",
      "                                                                 \n",
      "=================================================================\n",
      "Total params: 8,219\n",
      "Trainable params: 8,219\n",
      "Non-trainable params: 0\n",
      "_________________________________________________________________\n",
      "None\n"
     ]
    }
   ],
   "source": [
    "#hidden layer\n",
    "classifier.add(Dense(128, activation = 'relu'))\n",
    "classifier.add(Dropout(0.5))\n",
    "\n",
    "#output layer\n",
    "classifier.add(Dense(3, activation = 'softmax'))\n",
    "\n",
    "classifier.compile(optimizer = 'adam', loss = 'categorical_crossentropy', metrics = ['accuracy'])\n",
    "print(classifier.summary())\n",
    "#plot_model(classifier, show_shapes=True, to_file='PlantVillage_CNN.png')"
   ]
  },
  {
   "cell_type": "code",
   "execution_count": null,
   "id": "bd647176",
   "metadata": {
    "scrolled": true
   },
   "outputs": [
    {
     "name": "stdout",
     "output_type": "stream",
     "text": [
      "Found 900 images belonging to 3 classes.\n",
      "{'Potato___Early_blight': 0, 'Potato___Late_blight': 1, 'Potato___healthy': 2}\n",
      "Found 300 images belonging to 3 classes.\n",
      "Found 300 images belonging to 3 classes.\n",
      "Epoch 1/100\n",
      "28/28 [==============================] - 13s 448ms/step - loss: 1.1026 - accuracy: 0.2938 - val_loss: 1.0965 - val_accuracy: 0.3333\n",
      "Epoch 2/100\n",
      "28/28 [==============================] - 4s 155ms/step - loss: 1.0949 - accuracy: 0.3882 - val_loss: 1.0917 - val_accuracy: 0.4514\n",
      "Epoch 3/100\n",
      "28/28 [==============================] - 4s 156ms/step - loss: 1.0857 - accuracy: 0.4182 - val_loss: 1.0646 - val_accuracy: 0.5660\n",
      "Epoch 4/100\n",
      "28/28 [==============================] - 4s 156ms/step - loss: 1.0263 - accuracy: 0.5265 - val_loss: 0.9651 - val_accuracy: 0.5243\n",
      "Epoch 5/100\n",
      "28/28 [==============================] - 4s 156ms/step - loss: 0.8757 - accuracy: 0.5910 - val_loss: 0.7902 - val_accuracy: 0.6285\n",
      "Epoch 6/100\n",
      "28/28 [==============================] - 4s 157ms/step - loss: 0.7034 - accuracy: 0.6728 - val_loss: 0.6307 - val_accuracy: 0.7326\n",
      "Epoch 7/100\n",
      "28/28 [==============================] - 4s 154ms/step - loss: 0.6233 - accuracy: 0.7189 - val_loss: 0.5583 - val_accuracy: 0.7951\n",
      "Epoch 8/100\n",
      "28/28 [==============================] - 4s 156ms/step - loss: 0.5584 - accuracy: 0.7419 - val_loss: 0.4919 - val_accuracy: 0.8229\n",
      "Epoch 9/100\n",
      "13/28 [============>.................] - ETA: 2s - loss: 0.5301 - accuracy: 0.7596"
     ]
    }
   ],
   "source": [
    "from keras.preprocessing.image import ImageDataGenerator\n",
    "\n",
    "train_datagen = ImageDataGenerator(\n",
    "        rescale=1./255,\n",
    "        shear_range=0.2,\n",
    "        zoom_range=0.2,\n",
    "        horizontal_flip=True)\n",
    "\n",
    "test_datagen = ImageDataGenerator(rescale=1./255)\n",
    "\n",
    "training_set = train_datagen.flow_from_directory(\n",
    "        'train',\n",
    "        target_size=(128, 128),\n",
    "        batch_size=32,\n",
    "        class_mode='categorical' )\n",
    "label_map = (training_set.class_indices)\n",
    "\n",
    "print(label_map)\n",
    "\n",
    "valid_set = test_datagen.flow_from_directory(\n",
    "        'Valid',\n",
    "        target_size=(128, 128),\n",
    "        batch_size=32,\n",
    "        class_mode='categorical')\n",
    "\n",
    "test_set = test_datagen.flow_from_directory(\n",
    "        'Test',\n",
    "        target_size=(128, 128),\n",
    "        batch_size=32,\n",
    "        class_mode='categorical')\n",
    "\n",
    "train_batch_size = 32\n",
    "val_batch_size = 32\n",
    "num_epochs = 100\n",
    "train_images = 900\n",
    "val_images = 300\n",
    "\n",
    "\n",
    "\n",
    "history=classifier.fit(\n",
    "        training_set,\n",
    "        steps_per_epoch=train_images // train_batch_size,\n",
    "        epochs=num_epochs, \n",
    "        validation_data=valid_set,\n",
    "        validation_steps=val_images // val_batch_size)\n",
    "\n",
    "classifier.save_weights('test.h5')\n",
    "print('Saved trained model as %s ' % 'test.h5')"
   ]
  },
  {
   "cell_type": "code",
   "execution_count": null,
   "id": "c5ab9ec7",
   "metadata": {
    "scrolled": true
   },
   "outputs": [],
   "source": [
    "# plot the loss\n",
    "plt.plot(history.history['loss'], label='train loss')\n",
    "plt.plot(history.history['val_loss'], label='val loss')\n",
    "plt.legend()\n",
    "plt.show()\n",
    "plt.savefig('Loss over Epochs')\n",
    "\n",
    "# plot the accuracy\n",
    "plt.plot(history.history['accuracy'], label='train accuracy')\n",
    "plt.plot(history.history['val_accuracy'], label='val accuracy')\n",
    "plt.legend()\n",
    "plt.show()\n",
    "plt.savefig('Accuracy over Epochs')"
   ]
  },
  {
   "cell_type": "code",
   "execution_count": null,
   "id": "916d21f3",
   "metadata": {
    "scrolled": true
   },
   "outputs": [],
   "source": [
    "score=classifier.evaluate(test_set)"
   ]
  },
  {
   "cell_type": "code",
   "execution_count": null,
   "id": "3f420185",
   "metadata": {
    "scrolled": true
   },
   "outputs": [],
   "source": [
    "score"
   ]
  },
  {
   "cell_type": "code",
   "execution_count": null,
   "id": "32380004",
   "metadata": {
    "scrolled": true
   },
   "outputs": [],
   "source": [
    "from sklearn.metrics import classification_report\n",
    "y_pred = classifier.predict(test_set)\n",
    "y_pred = np.argmax(y_pred, axis=1)\n",
    "report = classification_report(test_set.classes, y_pred, target_names=label_map)\n",
    "print(report)"
   ]
  },
  {
   "cell_type": "code",
   "execution_count": null,
   "id": "6130b93d",
   "metadata": {},
   "outputs": [],
   "source": [
    "import seaborn as sns\n",
    "y_true_labels = test_set.classes\n",
    "\n",
    "\n",
    "# Make predictions on the test dataset\n",
    "y_pred_probs = classifier.predict(test_set)\n",
    "y_pred_labels = np.argmax(y_pred_probs, axis=1)\n",
    "\n",
    "# Compute the confusion matrix\n",
    "cm = confusion_matrix(y_true_labels, y_pred_labels)\n",
    "\n",
    "# Visualize the confusion matrix\n",
    "plt.figure(figsize=(10, 8))\n",
    "sns.heatmap(cm, annot=True, fmt='d', cmap='Blues')\n",
    "plt.xlabel('Predicted Labels')\n",
    "plt.ylabel('True Labels')\n",
    "plt.title('Confusion Matrix')\n",
    "plt.show()"
   ]
  },
  {
   "cell_type": "code",
   "execution_count": null,
   "id": "07b37ac7",
   "metadata": {},
   "outputs": [],
   "source": []
  }
 ],
 "metadata": {
  "kernelspec": {
   "display_name": "Python 3 (ipykernel)",
   "language": "python",
   "name": "python3"
  },
  "language_info": {
   "codemirror_mode": {
    "name": "ipython",
    "version": 3
   },
   "file_extension": ".py",
   "mimetype": "text/x-python",
   "name": "python",
   "nbconvert_exporter": "python",
   "pygments_lexer": "ipython3",
   "version": "3.10.9"
  }
 },
 "nbformat": 4,
 "nbformat_minor": 5
}
