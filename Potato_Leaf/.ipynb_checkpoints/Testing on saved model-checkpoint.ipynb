{
 "cells": [
  {
   "cell_type": "code",
   "execution_count": 7,
   "id": "f8433a1c",
   "metadata": {},
   "outputs": [],
   "source": [
    "def get_dataset_partitions_tf(ds, train_split=0.8, val_split=0.1, test_split=0.1, shuffle=True, shuffle_size=10000):\n",
    "  assert  (train_split + test_split + val_split) == 1\n",
    "\n",
    "  ds_size = len(ds)\n",
    "\n",
    "  if shuffle:\n",
    "    ds = ds.shuffle(shuffle_size, seed=12)\n",
    "\n",
    "  train_size = int(train_split * ds_size)\n",
    "  val_size = int(val_split * ds_size)\n",
    "\n",
    "  val_size = int(val_split * ds_size)\n",
    "    \n",
    "  train_ds = ds.take(train_size)    \n",
    "  val_ds = ds.skip(train_size).take(val_size)\n",
    "  test_ds = ds.skip(train_size).skip(val_size)\n",
    "    \n",
    "  return train_ds, val_ds, test_ds"
   ]
  },
  {
   "cell_type": "code",
   "execution_count": 5,
   "id": "1b336f78",
   "metadata": {},
   "outputs": [
    {
     "name": "stdout",
     "output_type": "stream",
     "text": [
      "Found 2152 files belonging to 3 classes.\n"
     ]
    }
   ],
   "source": [
    "dataset = tf.keras.preprocessing.image_dataset_from_directory(\n",
    "    \"PlantVillage\",\n",
    "    shuffle = True,\n",
    "    image_size = (256, 256),\n",
    "    batch_size = 32\n",
    ")"
   ]
  },
  {
   "cell_type": "code",
   "execution_count": 6,
   "id": "315e6199",
   "metadata": {
    "scrolled": true
   },
   "outputs": [
    {
     "name": "stdout",
     "output_type": "stream",
     "text": [
      "54\n",
      "6\n",
      "8\n"
     ]
    }
   ],
   "source": [
    "train_ds, val_ds, test_ds = get_dataset_partitions_tf(dataset)\n",
    "print(len(train_ds))\n",
    "print(len(val_ds))\n",
    "print(len(test_ds))"
   ]
  },
  {
   "cell_type": "code",
   "execution_count": 13,
   "id": "7bd92d92",
   "metadata": {
    "scrolled": false
   },
   "outputs": [
    {
     "name": "stdout",
     "output_type": "stream",
     "text": [
      "8/8 [==============================] - 4s 412ms/step\n",
      "Accuracy: 0.99609375\n",
      "Confusion Matrix:\n",
      "[[121   1   0]\n",
      " [  0 124   0]\n",
      " [  0   0  10]]\n",
      "Precision: 0.9973333333333333\n",
      "Recall: 0.9972677595628415\n",
      "F1 Score: 0.997289569801841\n"
     ]
    }
   ],
   "source": [
    "import tensorflow as tf\n",
    "import numpy as np\n",
    "import sklearn.metrics as metrics\n",
    "\n",
    "# Load the saved model\n",
    "model = tf.keras.models.load_model('potatoes.h5')\n",
    "\n",
    "# Get the test dataset\n",
    "test_images = []\n",
    "test_labels = []\n",
    "for images, labels in test_ds:\n",
    "    test_images.append(images)\n",
    "    test_labels.append(labels)\n",
    "test_images = np.concatenate(test_images)\n",
    "test_labels = np.concatenate(test_labels)\n",
    "\n",
    "# Make predictions on the test set\n",
    "predictions = model.predict(test_images)\n",
    "\n",
    "# Convert predictions to class labels\n",
    "predicted_labels = np.argmax(predictions, axis=1)\n",
    "\n",
    "# Calculate accuracy\n",
    "accuracy = metrics.accuracy_score(test_labels, predicted_labels)\n",
    "print(\"Accuracy:\", accuracy)\n",
    "\n",
    "# Calculate confusion matrix\n",
    "confusion_matrix = metrics.confusion_matrix(test_labels, predicted_labels)\n",
    "print(\"Confusion Matrix:\")\n",
    "print(confusion_matrix)\n",
    "\n",
    "# Calculate precision, recall, and F1 score\n",
    "precision = metrics.precision_score(test_labels, predicted_labels, average='macro')\n",
    "recall = metrics.recall_score(test_labels, predicted_labels, average='macro')\n",
    "f1_score = metrics.f1_score(test_labels, predicted_labels, average='macro')\n",
    "print(\"Precision:\", precision)\n",
    "print(\"Recall:\", recall)\n",
    "print(\"F1 Score:\", f1_score)"
   ]
  }
 ],
 "metadata": {
  "kernelspec": {
   "display_name": "Python 3 (ipykernel)",
   "language": "python",
   "name": "python3"
  },
  "language_info": {
   "codemirror_mode": {
    "name": "ipython",
    "version": 3
   },
   "file_extension": ".py",
   "mimetype": "text/x-python",
   "name": "python",
   "nbconvert_exporter": "python",
   "pygments_lexer": "ipython3",
   "version": "3.10.9"
  }
 },
 "nbformat": 4,
 "nbformat_minor": 5
}
